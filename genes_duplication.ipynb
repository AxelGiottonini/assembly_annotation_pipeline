{
 "cells": [
  {
   "cell_type": "markdown",
   "metadata": {},
   "source": [
    "# Genes Duplication Viewer"
   ]
  },
  {
   "cell_type": "code",
   "execution_count": 13,
   "metadata": {},
   "outputs": [
    {
     "data": {
      "text/html": [
       "<iframe src=./out/genes_duplication/flye/1e-3/Ath.synteny.blocks.ks.distri.pdf width=600 height=300></iframe>"
      ],
      "text/plain": [
       "<__main__.PDF at 0x7fba3c402e30>"
      ]
     },
     "execution_count": 13,
     "metadata": {},
     "output_type": "execute_result"
    }
   ],
   "source": [
    "import glob\n",
    "\n",
    "class PDF(object):\n",
    "    def __init__(self, pdf, size=(600,300)):\n",
    "        self.pdf = pdf\n",
    "        self.size = size\n",
    "\n",
    "    def _repr_html_(self):\n",
    "        return '<iframe src={0} width={1[0]} height={1[1]}></iframe>'.format(self.pdf, self.size)\n",
    "\n",
    "files = glob.glob(\"./out/genes_duplication/*/*/Ath.synteny.blocks.ks.distri.pdf\")\n",
    "\n",
    "PDF(files[1])"
   ]
  }
 ],
 "metadata": {
  "kernelspec": {
   "display_name": "bio",
   "language": "python",
   "name": "python3"
  },
  "language_info": {
   "codemirror_mode": {
    "name": "ipython",
    "version": 3
   },
   "file_extension": ".py",
   "mimetype": "text/x-python",
   "name": "python",
   "nbconvert_exporter": "python",
   "pygments_lexer": "ipython3",
   "version": "3.10.8 (main, Nov 24 2022, 14:13:03) [GCC 11.2.0]"
  },
  "orig_nbformat": 4,
  "vscode": {
   "interpreter": {
    "hash": "60e8f7b25111b506a2b5716867db7125513164089924fb82f7658d1316428957"
   }
  }
 },
 "nbformat": 4,
 "nbformat_minor": 2
}
