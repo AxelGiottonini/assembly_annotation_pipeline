{
 "cells": [
  {
   "attachments": {},
   "cell_type": "markdown",
   "metadata": {},
   "source": [
    "# Assembly Comparison\n",
    "\n",
    "<table style=\"border: none\">\n",
    "<thead>\n",
    "  <tr>\n",
    "    <th style=\"border: none\">Canu</th>\n",
    "    <th style=\"border: none\">Flye</th>\n",
    "  </tr>\n",
    "</thead>\n",
    "<tbody>\n",
    "  <tr>\n",
    "    <td style=\"border: none\"><img src=\"./out/assembly_comparison/canu/out.png\" width=\"600\" height=\"600\"></td>\n",
    "    <td style=\"border: none\"><img src=\"./out/assembly_comparison/flye/out.png\" width=\"600\" height=\"600\"></td>\n",
    "  </tr>\n",
    "</tbody>\n",
    "</table>"
   ]
  }
 ],
 "metadata": {
  "kernelspec": {
   "display_name": "bio",
   "language": "python",
   "name": "python3"
  },
  "language_info": {
   "name": "python",
   "version": "3.10.8 (main, Nov 24 2022, 14:13:03) [GCC 11.2.0]"
  },
  "orig_nbformat": 4,
  "vscode": {
   "interpreter": {
    "hash": "60e8f7b25111b506a2b5716867db7125513164089924fb82f7658d1316428957"
   }
  }
 },
 "nbformat": 4,
 "nbformat_minor": 2
}
